{
 "cells": [
  {
   "cell_type": "code",
   "execution_count": 1,
   "id": "53a95b5c-2951-4822-a243-ed75e8e43840",
   "metadata": {},
   "outputs": [],
   "source": [
    "a=input()\n",
    "b=input()"
   ]
  },
  {
   "cell_type": "code",
   "execution_count": 2,
   "id": "86c891cd-6a48-41ef-a195-d56183dc9e88",
   "metadata": {},
   "outputs": [
    {
     "data": {
      "text/plain": [
       "'1525'"
      ]
     },
     "execution_count": 2,
     "metadata": {},
     "output_type": "execute_result"
    }
   ],
   "source": [
    "a+b"
   ]
  },
  {
   "cell_type": "code",
   "execution_count": 4,
   "id": "73854015-1cba-4c25-83b6-87d5f92849f5",
   "metadata": {},
   "outputs": [
    {
     "data": {
      "text/plain": [
       "('15', '25')"
      ]
     },
     "execution_count": 4,
     "metadata": {},
     "output_type": "execute_result"
    }
   ],
   "source": [
    "a,b"
   ]
  },
  {
   "cell_type": "code",
   "execution_count": 7,
   "id": "4774025b-d707-41f6-a2b2-8adbce3165d6",
   "metadata": {},
   "outputs": [],
   "source": [
    "x=int(a)"
   ]
  },
  {
   "cell_type": "code",
   "execution_count": 8,
   "id": "242f2bf7-b64f-49d3-899d-e897b388568d",
   "metadata": {},
   "outputs": [
    {
     "data": {
      "text/plain": [
       "15"
      ]
     },
     "execution_count": 8,
     "metadata": {},
     "output_type": "execute_result"
    }
   ],
   "source": [
    "x"
   ]
  },
  {
   "cell_type": "code",
   "execution_count": 9,
   "id": "15b3ea50-0f76-4f17-ac2a-945eacb2c599",
   "metadata": {},
   "outputs": [
    {
     "data": {
      "text/plain": [
       "int"
      ]
     },
     "execution_count": 9,
     "metadata": {},
     "output_type": "execute_result"
    }
   ],
   "source": [
    "type(x)"
   ]
  },
  {
   "cell_type": "code",
   "execution_count": 10,
   "id": "50e42d38-54cc-4be4-9765-fc422bdee9db",
   "metadata": {},
   "outputs": [],
   "source": [
    "y=int(b)"
   ]
  },
  {
   "cell_type": "code",
   "execution_count": 11,
   "id": "bc906002-2e98-47c2-8373-946064a13455",
   "metadata": {},
   "outputs": [
    {
     "data": {
      "text/plain": [
       "'25'"
      ]
     },
     "execution_count": 11,
     "metadata": {},
     "output_type": "execute_result"
    }
   ],
   "source": [
    "b"
   ]
  },
  {
   "cell_type": "code",
   "execution_count": 1,
   "id": "89f6aec4-a74b-4dbe-8270-1f88af22ccaa",
   "metadata": {},
   "outputs": [
    {
     "ename": "NameError",
     "evalue": "name 'b' is not defined",
     "output_type": "error",
     "traceback": [
      "\u001b[1;31m---------------------------------------------------------------------------\u001b[0m",
      "\u001b[1;31mNameError\u001b[0m                                 Traceback (most recent call last)",
      "Cell \u001b[1;32mIn[1], line 1\u001b[0m\n\u001b[1;32m----> 1\u001b[0m \u001b[38;5;28mtype\u001b[39m(\u001b[43mb\u001b[49m)\n",
      "\u001b[1;31mNameError\u001b[0m: name 'b' is not defined"
     ]
    }
   ],
   "source": [
    "type(b)"
   ]
  },
  {
   "cell_type": "code",
   "execution_count": 13,
   "id": "eb9edd9e-13e7-4ba5-a623-e89f70d0e216",
   "metadata": {},
   "outputs": [
    {
     "data": {
      "text/plain": [
       "25"
      ]
     },
     "execution_count": 13,
     "metadata": {},
     "output_type": "execute_result"
    }
   ],
   "source": [
    "y"
   ]
  },
  {
   "cell_type": "code",
   "execution_count": 2,
   "id": "2ed18829-4d89-4fda-8a32-3b39007aa0e3",
   "metadata": {},
   "outputs": [
    {
     "name": "stdout",
     "output_type": "stream",
     "text": [
      " 1000\n"
     ]
    },
    {
     "name": "stdout",
     "output_type": "stream",
     "text": [
      "1000\n"
     ]
    }
   ],
   "source": [
    "a=int(input())\n",
    "print(a)"
   ]
  },
  {
   "cell_type": "code",
   "execution_count": 3,
   "id": "47645411-eaee-4294-b7a2-af999673a638",
   "metadata": {},
   "outputs": [
    {
     "name": "stdout",
     "output_type": "stream",
     "text": [
      "enter a variable value 200\n"
     ]
    }
   ],
   "source": [
    "a=int(input(\"enter a variable value\"))"
   ]
  },
  {
   "cell_type": "code",
   "execution_count": 4,
   "id": "ccb83828-cdf3-416d-a11d-029490681b29",
   "metadata": {},
   "outputs": [
    {
     "name": "stdout",
     "output_type": "stream",
     "text": [
      "200\n"
     ]
    }
   ],
   "source": [
    "print(a)"
   ]
  },
  {
   "cell_type": "code",
   "execution_count": 5,
   "id": "0390137f-75a4-40d1-a43d-08a8b8d2a7b1",
   "metadata": {},
   "outputs": [
    {
     "name": "stdout",
     "output_type": "stream",
     "text": [
      " 303\n"
     ]
    },
    {
     "name": "stdout",
     "output_type": "stream",
     "text": [
      "303\n"
     ]
    }
   ],
   "source": [
    "a=int(input())\n",
    "print(a)"
   ]
  },
  {
   "cell_type": "code",
   "execution_count": 6,
   "id": "58a4eeff-abc6-496e-abc7-6f484c16f8aa",
   "metadata": {},
   "outputs": [
    {
     "name": "stdout",
     "output_type": "stream",
     "text": [
      "hello world 55555\n"
     ]
    }
   ],
   "source": [
    "a=int(input(\"hello world\"))"
   ]
  },
  {
   "cell_type": "code",
   "execution_count": 7,
   "id": "c97872ef-0c44-4d5e-a8e3-2d6f1f477131",
   "metadata": {},
   "outputs": [
    {
     "name": "stdout",
     "output_type": "stream",
     "text": [
      "55555\n"
     ]
    }
   ],
   "source": [
    "print(a)"
   ]
  },
  {
   "cell_type": "code",
   "execution_count": 14,
   "id": "423fc59a-9159-4ff9-b108-32135b36c179",
   "metadata": {},
   "outputs": [
    {
     "name": "stdout",
     "output_type": "stream",
     "text": [
      "python 32654\n"
     ]
    },
    {
     "name": "stdout",
     "output_type": "stream",
     "text": [
      "32654\n"
     ]
    }
   ],
   "source": [
    "a=int(input(\"python\"))\n",
    "print(a)"
   ]
  },
  {
   "cell_type": "code",
   "execution_count": 15,
   "id": "b62313f0-f720-4880-bfca-15ebfc448cd8",
   "metadata": {},
   "outputs": [
    {
     "name": "stdout",
     "output_type": "stream",
     "text": [
      "32654\n"
     ]
    }
   ],
   "source": [
    "print(a)"
   ]
  },
  {
   "cell_type": "raw",
   "id": "0871fa9d-a43a-452a-bdc9-9d4f8a95999f",
   "metadata": {},
   "source": [
    "a=input().split()"
   ]
  },
  {
   "cell_type": "code",
   "execution_count": 18,
   "id": "905eed7c-30de-4a6c-bd2c-8973164ac167",
   "metadata": {},
   "outputs": [
    {
     "ename": "SyntaxError",
     "evalue": "unmatched ')' (3854547816.py, line 1)",
     "output_type": "error",
     "traceback": [
      "\u001b[1;36m  Cell \u001b[1;32mIn[18], line 1\u001b[1;36m\u001b[0m\n\u001b[1;33m    print)\u001b[0m\n\u001b[1;37m         ^\u001b[0m\n\u001b[1;31mSyntaxError\u001b[0m\u001b[1;31m:\u001b[0m unmatched ')'\n"
     ]
    }
   ],
   "source": [
    "print"
   ]
  },
  {
   "cell_type": "code",
   "execution_count": 19,
   "id": "570e0c68-62a8-469b-b395-e99012134659",
   "metadata": {},
   "outputs": [
    {
     "name": "stdout",
     "output_type": "stream",
     "text": [
      "['10', '20', '30', '40', '50', '60', '70']\n"
     ]
    }
   ],
   "source": [
    "print(a)"
   ]
  },
  {
   "cell_type": "code",
   "execution_count": 20,
   "id": "bd291c1a-4d5a-4464-a6b6-16822f8e6dc6",
   "metadata": {},
   "outputs": [
    {
     "name": "stdout",
     "output_type": "stream",
     "text": [
      "hello nani\n"
     ]
    }
   ],
   "source": [
    "print(\"hello nani\")"
   ]
  },
  {
   "cell_type": "code",
   "execution_count": 21,
   "id": "d0656c01-2667-42e0-92e7-6b9a0e50a33f",
   "metadata": {},
   "outputs": [],
   "source": [
    "b=20222"
   ]
  },
  {
   "cell_type": "code",
   "execution_count": 22,
   "id": "551c7f8b-1501-4da8-9335-a4e8414622bd",
   "metadata": {},
   "outputs": [
    {
     "name": "stdout",
     "output_type": "stream",
     "text": [
      "20222\n"
     ]
    }
   ],
   "source": [
    "print(b)"
   ]
  },
  {
   "cell_type": "code",
   "execution_count": 23,
   "id": "b8215cbb-916f-486b-a487-d72045190148",
   "metadata": {},
   "outputs": [
    {
     "ename": "NameError",
     "evalue": "name 'hello' is not defined",
     "output_type": "error",
     "traceback": [
      "\u001b[1;31m---------------------------------------------------------------------------\u001b[0m",
      "\u001b[1;31mNameError\u001b[0m                                 Traceback (most recent call last)",
      "Cell \u001b[1;32mIn[23], line 1\u001b[0m\n\u001b[1;32m----> 1\u001b[0m \u001b[38;5;28mprint\u001b[39m(\u001b[43mhello\u001b[49m)\n",
      "\u001b[1;31mNameError\u001b[0m: name 'hello' is not defined"
     ]
    }
   ],
   "source": [
    "print(hello)"
   ]
  },
  {
   "cell_type": "code",
   "execution_count": 24,
   "id": "8000033c-b107-412f-9ba1-627bc9414895",
   "metadata": {},
   "outputs": [
    {
     "name": "stdout",
     "output_type": "stream",
     "text": [
      "hekkko\n"
     ]
    }
   ],
   "source": [
    "print(\"hekkko\")"
   ]
  },
  {
   "cell_type": "code",
   "execution_count": 25,
   "id": "d01af6ad-1521-4405-8bb5-54d54ab6430c",
   "metadata": {},
   "outputs": [
    {
     "name": "stdout",
     "output_type": "stream",
     "text": [
      "hekeke\n",
      "jSJFDK\n"
     ]
    }
   ],
   "source": [
    "print(\"hekeke\")\n",
    "print(\"jSJFDK\")"
   ]
  },
  {
   "cell_type": "code",
   "execution_count": 1,
   "id": "3567f75b-80fc-46dc-8028-74d279a6cc97",
   "metadata": {},
   "outputs": [
    {
     "name": "stdout",
     "output_type": "stream",
     "text": [
      "hello/nwelcome/nworld\n"
     ]
    }
   ],
   "source": [
    "print(\"hello\",\"welcome\",\"world\",sep=\"/n\")"
   ]
  },
  {
   "cell_type": "code",
   "execution_count": 2,
   "id": "81e1f96e",
   "metadata": {},
   "outputs": [
    {
     "name": "stdout",
     "output_type": "stream",
     "text": [
      "hello\n",
      "welcome\n",
      "world\n"
     ]
    }
   ],
   "source": [
    "print(\"hello\",\"welcome\",\"world\",sep=\"\\n\")"
   ]
  },
  {
   "cell_type": "code",
   "execution_count": 9,
   "id": "bfe6fec3",
   "metadata": {},
   "outputs": [
    {
     "name": "stdout",
     "output_type": "stream",
     "text": [
      "hello----enjoy----every\n"
     ]
    }
   ],
   "source": [
    "print(\"hello\",\"enjoy\",\"every\",sep=\"----\")"
   ]
  },
  {
   "cell_type": "code",
   "execution_count": 11,
   "id": "5eea6fb2",
   "metadata": {},
   "outputs": [
    {
     "name": "stdout",
     "output_type": "stream",
     "text": [
      "welcometo python\n"
     ]
    }
   ],
   "source": [
    "print(\"welcome\",end=\"\")\n",
    "print(\"to python\")"
   ]
  },
  {
   "cell_type": "code",
   "execution_count": 12,
   "id": "f342eb3e",
   "metadata": {},
   "outputs": [
    {
     "name": "stdout",
     "output_type": "stream",
     "text": [
      "a is integer and b is a float\n"
     ]
    }
   ],
   "source": [
    "a=10\n",
    "b=2.5\n",
    "print(\"a is integer and b is a float\")"
   ]
  },
  {
   "cell_type": "code",
   "execution_count": 14,
   "id": "e26f2d5d",
   "metadata": {},
   "outputs": [
    {
     "name": "stdout",
     "output_type": "stream",
     "text": [
      "10 is integer and 2.500000 is a float\n"
     ]
    }
   ],
   "source": [
    "a=10\n",
    "b=2.5\n",
    "print(\"%d is integer and %f is a float\"%(a,b))"
   ]
  },
  {
   "cell_type": "code",
   "execution_count": 15,
   "id": "938e7d9a",
   "metadata": {},
   "outputs": [
    {
     "name": "stdout",
     "output_type": "stream",
     "text": [
      "500 is an integer and 2.660000 is a float\n"
     ]
    }
   ],
   "source": [
    "a=500\n",
    "b=2.66\n",
    "print(\"%d is an integer and %f is a float\"%(a,b))"
   ]
  },
  {
   "cell_type": "code",
   "execution_count": 17,
   "id": "82d0c678",
   "metadata": {},
   "outputs": [
    {
     "name": "stdout",
     "output_type": "stream",
     "text": [
      "500 is an integer and 2.60 is a float\n"
     ]
    }
   ],
   "source": [
    "a=500\n",
    "b=2.6\n",
    "print(\"%d is an integer and %.2f is a float\"%(a,b))"
   ]
  },
  {
   "cell_type": "code",
   "execution_count": 18,
   "id": "bc82cfa8",
   "metadata": {},
   "outputs": [
    {
     "name": "stdout",
     "output_type": "stream",
     "text": [
      "3.3333333333333335\n"
     ]
    }
   ],
   "source": [
    "b=10/3\n",
    "print(b)"
   ]
  },
  {
   "cell_type": "code",
   "execution_count": null,
   "id": "9d5a96cf",
   "metadata": {},
   "outputs": [],
   "source": []
  },
  {
   "cell_type": "code",
   "execution_count": 20,
   "id": "03b5a6c2",
   "metadata": {},
   "outputs": [
    {
     "name": "stdout",
     "output_type": "stream",
     "text": [
      "3.333\n"
     ]
    }
   ],
   "source": [
    "b=10/3\n",
    "print(\"%.3f\"%(b))"
   ]
  },
  {
   "cell_type": "code",
   "execution_count": 21,
   "id": "5030c94e",
   "metadata": {},
   "outputs": [
    {
     "name": "stdout",
     "output_type": "stream",
     "text": [
      "2.5\n"
     ]
    }
   ],
   "source": [
    "a=10/4\n",
    "print(a)"
   ]
  },
  {
   "cell_type": "code",
   "execution_count": 24,
   "id": "2a4ab7ac",
   "metadata": {},
   "outputs": [
    {
     "name": "stdout",
     "output_type": "stream",
     "text": [
      "3.14\n"
     ]
    }
   ],
   "source": [
    "a=22/7\n",
    "print(\"%.2f\"%(a))"
   ]
  },
  {
   "cell_type": "code",
   "execution_count": 26,
   "id": "9707be51",
   "metadata": {},
   "outputs": [
    {
     "name": "stdout",
     "output_type": "stream",
     "text": [
      "12 is integer and 1.33 is a float\n"
     ]
    }
   ],
   "source": [
    "a=12\n",
    "b=1.33\n",
    "print(a,\"is integer and\",b,\"is a float\")"
   ]
  },
  {
   "cell_type": "code",
   "execution_count": 27,
   "id": "970600be",
   "metadata": {},
   "outputs": [
    {
     "data": {
      "text/plain": [
       "30"
      ]
     },
     "execution_count": 27,
     "metadata": {},
     "output_type": "execute_result"
    }
   ],
   "source": [
    "a=10\n",
    "b=20\n",
    "a+b"
   ]
  },
  {
   "cell_type": "code",
   "execution_count": 28,
   "id": "4db7e712",
   "metadata": {},
   "outputs": [
    {
     "data": {
      "text/plain": [
       "200"
      ]
     },
     "execution_count": 28,
     "metadata": {},
     "output_type": "execute_result"
    }
   ],
   "source": [
    "a=10\n",
    "b=20\n",
    "a*b"
   ]
  },
  {
   "cell_type": "code",
   "execution_count": 30,
   "id": "4550cff1",
   "metadata": {},
   "outputs": [
    {
     "data": {
      "text/plain": [
       "1"
      ]
     },
     "execution_count": 30,
     "metadata": {},
     "output_type": "execute_result"
    }
   ],
   "source": [
    "a=5\n",
    "b=3\n",
    "a&b"
   ]
  },
  {
   "cell_type": "code",
   "execution_count": 32,
   "id": "f1c1a002",
   "metadata": {},
   "outputs": [
    {
     "data": {
      "text/plain": [
       "7"
      ]
     },
     "execution_count": 32,
     "metadata": {},
     "output_type": "execute_result"
    }
   ],
   "source": [
    "a=5\n",
    "b=3\n",
    "a|b"
   ]
  },
  {
   "cell_type": "code",
   "execution_count": 33,
   "id": "a21fc76a",
   "metadata": {},
   "outputs": [
    {
     "data": {
      "text/plain": [
       "6"
      ]
     },
     "execution_count": 33,
     "metadata": {},
     "output_type": "execute_result"
    }
   ],
   "source": [
    "a=5\n",
    "b=3\n",
    "a^b"
   ]
  },
  {
   "cell_type": "code",
   "execution_count": 34,
   "id": "739f4971",
   "metadata": {},
   "outputs": [
    {
     "data": {
      "text/plain": [
       "-4"
      ]
     },
     "execution_count": 34,
     "metadata": {},
     "output_type": "execute_result"
    }
   ],
   "source": [
    "a=5\n",
    "b=3\n",
    "~b"
   ]
  },
  {
   "cell_type": "code",
   "execution_count": 35,
   "id": "ae96267b",
   "metadata": {},
   "outputs": [
    {
     "data": {
      "text/plain": [
       "-6"
      ]
     },
     "execution_count": 35,
     "metadata": {},
     "output_type": "execute_result"
    }
   ],
   "source": [
    "a=5\n",
    "b=3\n",
    "~a"
   ]
  },
  {
   "cell_type": "code",
   "execution_count": 39,
   "id": "afc03afa",
   "metadata": {},
   "outputs": [
    {
     "data": {
      "text/plain": [
       "20"
      ]
     },
     "execution_count": 39,
     "metadata": {},
     "output_type": "execute_result"
    }
   ],
   "source": [
    "a=5\n",
    "a<<2"
   ]
  },
  {
   "cell_type": "code",
   "execution_count": 40,
   "id": "0b9cf62d",
   "metadata": {},
   "outputs": [
    {
     "data": {
      "text/plain": [
       "1"
      ]
     },
     "execution_count": 40,
     "metadata": {},
     "output_type": "execute_result"
    }
   ],
   "source": [
    "a=5\n",
    "a>>2"
   ]
  },
  {
   "cell_type": "code",
   "execution_count": null,
   "id": "a76cc50c",
   "metadata": {},
   "outputs": [],
   "source": []
  }
 ],
 "metadata": {
  "kernelspec": {
   "display_name": "Python 3 (ipykernel)",
   "language": "python",
   "name": "python3"
  },
  "language_info": {
   "codemirror_mode": {
    "name": "ipython",
    "version": 3
   },
   "file_extension": ".py",
   "mimetype": "text/x-python",
   "name": "python",
   "nbconvert_exporter": "python",
   "pygments_lexer": "ipython3",
   "version": "3.11.4"
  }
 },
 "nbformat": 4,
 "nbformat_minor": 5
}
